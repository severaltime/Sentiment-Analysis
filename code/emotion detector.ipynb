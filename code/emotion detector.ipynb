{
 "cells": [
  {
   "cell_type": "markdown",
   "metadata": {},
   "source": [
    "## 基于文本的情感分析\n",
    "### 数据支持：golve.6B.300d.txt (下载链接https://nlp.stanford.edu/projects/glove/）\n",
    "### 训练集文件：isear.txt stopwords_english.txt\n",
    "### 模型使用：Logistic模型 集成学习相关模型(Randam Forest GBDT) bi-LSTM神经网络\n",
    "### 项目时间：2020年4月25日"
   ]
  },
  {
   "cell_type": "markdown",
   "metadata": {},
   "source": [
    "### Part 1 导入文本数据及预处理过程(去除特殊符号、停用词等) "
   ]
  },
  {
   "cell_type": "code",
   "execution_count": 1,
   "metadata": {},
   "outputs": [
    {
     "name": "stdout",
     "output_type": "stream",
     "text": [
      "text: period falling love time met especially met long time\n",
      "emotion: joy \n",
      "\n",
      "text: involved traffic accident\n",
      "emotion: fear \n",
      "\n",
      "text: driving home several days hard work motorist ahead driving 50 km hour refused despite low speeed let overtake\n",
      "emotion: anger \n",
      "\n",
      "text: lost person meant\n",
      "emotion: sadness \n",
      "\n",
      "text: time knocked deer sight animal injuries helplessness realization animal badly hurt put animal screamed moment death\n",
      "emotion: disgust \n",
      "\n",
      "text: speak truth\n",
      "emotion: shame \n",
      "\n",
      "text: caused problems somebody could keep appointed time led various consequences\n",
      "emotion: guilt \n",
      "\n",
      "text: got letter offering summer job applied\n",
      "emotion: joy \n",
      "\n",
      "text: going home alone one night paris man came behind asked afraid alone late night\n",
      "emotion: fear \n",
      "\n",
      "text: talking party first time long friend came interrupted us left\n",
      "emotion: anger \n",
      "\n"
     ]
    }
   ],
   "source": [
    "# 导入re库，用正则表达式(基于规则的方式)去除文本数据的特殊符号，对一些单词的缩写进行展开等\n",
    "import re\n",
    "\n",
    "# 导入isear.txt文件，提取文件中的文本信息和情感标签\n",
    "contents, targets = [], []\n",
    "for line in open('isear.txt', encoding='utf-8'):\n",
    "    line = line.strip().split('|')\n",
    "    tar, cont = line[-7], line[-3]\n",
    "    if re.match(r'[0-9]+', tar) or len(tar.split(' '))>1:\n",
    "        continue\n",
    "    else:\n",
    "        targets.append(tar)\n",
    "        contents.append(cont)\n",
    "\n",
    "# 去掉header\n",
    "contents.pop(0)\n",
    "targets.pop(0)\n",
    "\n",
    "# 导入停用词库\n",
    "stop_words = []\n",
    "for line in open('/Users/xujie/Desktop/Python/nlp/data/data_english/stopwords_english.txt'):\n",
    "    stop_words.append(line.strip())\n",
    "\n",
    "\n",
    "# 定义函数clean_text对文本进行清洗\n",
    "def clean_text(cont, lower_flag=False):\n",
    "    if lower_flag: \n",
    "        cont = cont.lower()\n",
    "    cont = re.sub(r\"what's\", \"what is \", cont)\n",
    "    cont = re.sub(r\"\\'s\", \" \", cont)\n",
    "    cont = re.sub(r\"\\'ve\", \" have \", cont)\n",
    "    cont = re.sub(r\"can't\", \"can not \", cont)\n",
    "    cont = re.sub(r\"n't\", \" not \", cont)\n",
    "    cont = re.sub(r\"i'm\", \"i am \", cont)\n",
    "    cont = re.sub(r\"\\'re\", \" are \", cont)\n",
    "    cont = re.sub(r\"\\'d\", \" would \", cont)\n",
    "    cont = re.sub(r\"\\'ll\", \" will \", cont)\n",
    "    cont = re.sub(r\",\", \" \", cont)\n",
    "    cont = re.sub(r\"\\.\", \" \", cont)\n",
    "    cont = re.sub(r\"!\", \" ! \", cont)\n",
    "    cont = re.sub(r\":\", \" : \", cont)\n",
    "    ont = re.sub(r\";\", \" ; \", cont)\n",
    "    cont = re.sub(r\"/\", \" \", cont)\n",
    "    cont = re.sub(r\"\\\\\", \" \", cont)\n",
    "    cont = re.sub(r\"\\t\", \" \", cont)\n",
    "    cont = re.sub(r\"\\[\", \" \", cont)\n",
    "    cont = re.sub(r\"\\]\", \" \", cont)\n",
    "    cont = re.sub(r\"\\(\", \" \", cont)\n",
    "    cont = re.sub(r\"\\)\", \" \", cont)\n",
    "    cont = re.sub(r\"-\", \" \", cont)\n",
    "    cont = re.sub(r\"%\", \" \", cont)\n",
    "    cont = re.sub(r\"&\", \" \", cont)\n",
    "    cont = re.sub(r\"$\", \" \", cont)\n",
    "    cont = re.sub(r\"'\", \" \", cont)\n",
    "    cont = re.sub(r\"\\\"\", \" \", cont)\n",
    "    cont = re.sub(r\"¦\", \" \", cont)\n",
    "    cont = cont.strip().split()\n",
    "    return cont\n",
    "\n",
    "for i in range(len(contents)):\n",
    "    contents[i] = clean_text(contents[i], lower_flag=True)\n",
    "    # 去除停用词\n",
    "    contents[i] = ' '.join([word for word in contents[i] if word not in stop_words])\n",
    "\n",
    "# print文本和情感表情的一些例子\n",
    "for i in range(10):\n",
    "    print('text:', contents[i])\n",
    "    print('emotion:', targets[i], '\\n')"
   ]
  },
  {
   "cell_type": "markdown",
   "metadata": {},
   "source": [
    "### Part 2 基于机器学习和集成学习的情感分析预测 "
   ]
  },
  {
   "cell_type": "code",
   "execution_count": 2,
   "metadata": {},
   "outputs": [],
   "source": [
    "from sklearn.model_selection import train_test_split\n",
    "from sklearn.feature_extraction.text import TfidfVectorizer\n",
    "\n",
    "# 设置随机数种子\n",
    "SEED = 1234\n",
    "\n",
    "# 将文本和标签划分为训练集和测试集\n",
    "X_train, X_test, Y_train, Y_test = train_test_split(contents, targets, test_size=0.3, random_state=SEED)\n",
    "\n",
    "# 对文本中对每一句化进行one-hot(tf-idf) encoder\n",
    "vectorizer = TfidfVectorizer()\n",
    "X_train = vectorizer.fit_transform(X_train)\n",
    "X_test = vectorizer.transform(X_test)"
   ]
  },
  {
   "cell_type": "markdown",
   "metadata": {},
   "source": [
    "### Part 2.1 通过Logistic Regression对训练集样本进行试探性的训练"
   ]
  },
  {
   "cell_type": "code",
   "execution_count": 3,
   "metadata": {},
   "outputs": [
    {
     "name": "stdout",
     "output_type": "stream",
     "text": [
      "logistic模型在测试集上的得分为: 0.5468680586406042\n",
      "logistic模型训练参数的稀疏率为：94.19%\n"
     ]
    }
   ],
   "source": [
    "import warnings\n",
    "warnings.filterwarnings('ignore')\n",
    "import numpy as np\n",
    "from sklearn.linear_model import LogisticRegression\n",
    "\n",
    "# 训练Logistic Regression Model并在测试集上进行预测得分\n",
    "# tf-idf encoding的方式本身具有极大的稀疏性，加入L1正则对特征进行稀疏学习，相应的solver为saga\n",
    "lr = LogisticRegression(C=2.5, penalty='l1', solver='saga', tol=0.0001)\n",
    "# print测试集得分score\n",
    "print('logistic模型在测试集上的得分为:', lr.fit(X_train, Y_train).score(X_test, Y_test))\n",
    "# print带L1正则项Logistic Regression Model参数的稀疏率\n",
    "print('logistic模型训练参数的稀疏率为：{:.2f}%'.format(np.mean(lr.coef_==0)*100))"
   ]
  },
  {
   "cell_type": "code",
   "execution_count": 4,
   "metadata": {
    "scrolled": true
   },
   "outputs": [],
   "source": [
    "import seaborn as sns\n",
    "import matplotlib.pyplot as plt\n",
    "\n",
    "# 导入sklearn.metrics库中的混淆矩阵和分类结果评估模块\n",
    "from sklearn.metrics import confusion_matrix, classification_report\n",
    "\n",
    "# 定义report_results()函数，对模型预测的情感标签与真实的情感标签进行分析\n",
    "def report_results(Y_test, pred, method=''):\n",
    "    labels = ['anger', 'disgust', 'fear', 'guilt', 'joy', 'sadness', 'shame']\n",
    "    confm = confusion_matrix(Y_test, pred)\n",
    "    plt.figure(figsize=(8,8))\n",
    "    sns.heatmap(confm.T, square=True, annot=True, fmt='d', cbar=False)\n",
    "    plt.xlabel('True Label')\n",
    "    plt.ylabel('Predict Label')\n",
    "    plt.xticks([i+0.5 for i in range(7)], labels)\n",
    "    plt.yticks([i+0.5 for i in range(7)], labels)\n",
    "    plt.title(method+' '+'Confusion Matrix')\n",
    "    plt.show()\n",
    "    \n",
    "    print(method+' '+'Classification Report：', '\\n', classification_report(Y_test, pred))\n",
    "    return"
   ]
  },
  {
   "cell_type": "code",
   "execution_count": 38,
   "metadata": {},
   "outputs": [
    {
     "data": {
      "image/png": "[encoded data removed]",
      "text/plain": [
       "<Figure size 576x576 with 1 Axes>"
      ]
     },
     "metadata": {
      "needs_background": "light"
     },
     "output_type": "display_data"
    },
    {
     "name": "stdout",
     "output_type": "stream",
     "text": [
      "Logistic Regression Classification Report： \n",
      "               precision    recall  f1-score   support\n",
      "\n",
      "       anger       0.41      0.43      0.42       328\n",
      "     disgust       0.58      0.58      0.58       342\n",
      "        fear       0.66      0.67      0.66       293\n",
      "       guilt       0.46      0.42      0.44       323\n",
      "         joy       0.65      0.68      0.66       328\n",
      "     sadness       0.61      0.61      0.61       325\n",
      "       shame       0.45      0.43      0.44       312\n",
      "\n",
      "    accuracy                           0.55      2251\n",
      "   macro avg       0.54      0.55      0.54      2251\n",
      "weighted avg       0.54      0.55      0.54      2251\n",
      "\n"
     ]
    }
   ],
   "source": [
    "# pred为Logistic Regression Model在测试集上的预测结果\n",
    "pred = lr.predict(X_test)\n",
    "# 绘制混淆矩阵的热力图和classification的评估报告\n",
    "report_results(Y_test, pred, method='Logistic Regression')"
   ]
  },
  {
   "cell_type": "markdown",
   "metadata": {},
   "source": [
    "### Part 2.2 通过集成学习方法对训练集进行训练"
   ]
  },
  {
   "cell_type": "code",
   "execution_count": null,
   "metadata": {},
   "outputs": [],
   "source": [
    "from sklearn.ensemble import RandomForestClassifier, ExtraTreesClassifier, GradientBoostingClassifier\n",
    "\n",
    "# 集成学习模型1: Random Forest\n",
    "modelRF = RandomForestClassifier(n_estimators=2000, # 弱分类器个数\n",
    "                                 max_features='sqrt', # 定义max_features\n",
    "                                 max_depth=None, # 定义最大深度\n",
    "                                 min_samples_split=8, # 决策树最小样本的划分数\n",
    "                                 random_state=SEED)\n",
    "\n",
    "# 集成学习模型2: Extra Trees\n",
    "modelXT = ExtraTreesClassifier(n_estimators=2000, # 弱分类器个数\n",
    "                               max_features='sqrt', # 定义max_features\n",
    "                               max_depth=None, # 定义最大深度\n",
    "                               min_samples_split=8, # 决策树最小样本的划分数\n",
    "                               random_state=SEED)\n",
    "\n",
    "# 集成学习模型3: GBDT\n",
    "modelGB = GradientBoostingClassifier(n_estimators=200, # 弱分类器个数\n",
    "                                     learning_rate=0.20, # 定义学习率\n",
    "                                     max_depth=20, # 定义最大深度\n",
    "                                     min_samples_split=8, # 定义决策树最小样本的划分数\n",
    "                                     random_state=SEED)\n",
    "\n",
    "# 在训练集上训练3种集成学习模型(Random Forest, Extra Trees, GBDT)\n",
    "modelRF.fit(X_train, Y_train) \n",
    "modelXT.fit(X_train, Y_train) \n",
    "modelGB.fit(X_train, Y_train)\n",
    "\n",
    "# 在测试集上测试3种集成学习模型(Random Forest, Extra Trees, GBDT)\n",
    "pred_lRF = modelRF.predict(X_test)\n",
    "pred_lXT = modelXT.predict(X_test)\n",
    "pred_lGB = modelGB.predict(X_test)"
   ]
  },
  {
   "cell_type": "code",
   "execution_count": null,
   "metadata": {},
   "outputs": [],
   "source": [
    "# 绘制混淆矩阵的热力图和classification的评估报告\n",
    "report_results(Y_test, pred_lRF, method='Random Forest')\n",
    "report_results(Y_test, pred_lXT, method='Extra Trees')\n",
    "report_results(Y_test, pred_lGB, method='Gradient Boosting')"
   ]
  },
  {
   "cell_type": "markdown",
   "metadata": {},
   "source": [
    "### Part 3 基于bi-LSTM深度神经网络对文本进行情感分析"
   ]
  },
  {
   "cell_type": "code",
   "execution_count": 5,
   "metadata": {},
   "outputs": [],
   "source": [
    "# 导入os库，获取当前工作路径\n",
    "import os \n",
    "# 导入pickle库，用于读取和保存数据\n",
    "import pickle\n",
    "\n",
    "# 导入tensorflow, keras深度学习框架\n",
    "import tensorflow as tf\n",
    "from tensorflow import keras\n",
    "from tensorflow.keras.layers import *\n",
    "from tensorflow.keras import Sequential, optimizers, losses\n",
    "from tensorflow.keras.callbacks import EarlyStopping,ModelCheckpoint"
   ]
  },
  {
   "cell_type": "code",
   "execution_count": 21,
   "metadata": {},
   "outputs": [],
   "source": [
    "# 根据所有的文本语料数据构建词库构建词库，对文本中的所有单词进行一对一的编码\n",
    "\n",
    "# 生成词典库\n",
    "vocab = set([word for line in contents for word in line.split()])\n",
    "\n",
    "# 对词典库中所有单词分配一个数字，word2idx为将单词转化为对应数字的map，idx2word为将数字转化为相应单词的map\n",
    "word2idx, idx2word, count = dict(), dict(), 3\n",
    "for word in vocab:\n",
    "    count += 1\n",
    "    word2idx[word] = count\n",
    "    idx2word[count] = word\n",
    "\n",
    "# 加入特殊符号：<PAD>表示0填充，<START>表示句子开头，<UNK>表示未在词典库中的单词，<END>表示句子结尾\n",
    "word2idx['<PAD>'], word2idx['<START>'], word2idx['<UNK>'], word2idx['<END>'] = 0, 1, 2, 3\n",
    "idx2word[0], idx2word[1], idx2word[2], idx2word[3] = '<PAD>', '<START>', '<UNK>', '<END>'\n",
    "\n",
    "# 定义文本编码函数content_encoder(), 将文本转化为数字序列\n",
    "# 设置句子最大长度max_sent_len，不足词长度用0填充，超出此长度对句子进行截断\n",
    "def content_encoder(word2idx, contents, max_sent_len):\n",
    "    cont2idx = np.array([[word2idx.get(word, word2idx['<UNK>']) for word in line.split()] for line in contents])\n",
    "    cont2idx = keras.preprocessing.sequence.pad_sequences(cont2idx, value = 0, padding = 'post', maxlen=max_sent_len)\n",
    "    return cont2idx\n",
    "\n",
    "max_sent_len = 30 # 句子最大长度\n",
    "\n",
    "# 将文本编码为数字序列\n",
    "cont2idx = content_encoder(word2idx, contents, max_sent_len)"
   ]
  },
  {
   "cell_type": "code",
   "execution_count": 22,
   "metadata": {},
   "outputs": [],
   "source": [
    "# 加载glove.6B.300d的word2idx数据(用于将句子中的单词转化为对应的数字序号)\n",
    "\n",
    "config_path = '/Users/xujie/Desktop/Python/nlp/data/word_embeding' # 参数加载地址\n",
    "\n",
    "with open(os.path.join(config_path, 'word2idx.pickle'), 'rb') as f:\n",
    "    GloVe_word2idx = pickle.load(f)\n",
    "\n",
    "# 调用文本编码函数content_encoder(), 将文本转化为数字序列\n",
    "GloVe_cont2idx = content_encoder(GloVe_word2idx, contents, max_sent_len)"
   ]
  },
  {
   "cell_type": "code",
   "execution_count": 23,
   "metadata": {},
   "outputs": [],
   "source": [
    "target2idx = {'anger':0, 'disgust':1, 'fear':2, 'guilt':3, 'joy':4, 'sadness':5, 'shame':6}\n",
    "tar2idx = [target2idx[tar] for tar in targets]\n",
    "\n",
    "tar_kinds = 7 # 情感标注的类别数\n",
    "\n",
    "# 对情感标注进行one-hot encoding\n",
    "target_one_hot = tf.one_hot(tar2idx, depth=tar_kinds)"
   ]
  },
  {
   "cell_type": "code",
   "execution_count": 24,
   "metadata": {},
   "outputs": [],
   "source": [
    "# 定义save_data()函数将文本的数字序列划分为训练集和测试集并保存\n",
    "def save_data(X, y, train_rate, file_path):\n",
    "    sample_size = X.shape[0]\n",
    "    train_size = int(train_rate*sample_size) \n",
    "    test_size = sample_size-train_size\n",
    "    \n",
    "    # 划分样本为训练集和测试集\n",
    "    x_train, x_test = tf.split(X, [train_size, test_size], axis=0)\n",
    "    y_train, y_test = tf.split(y, [train_size, test_size], axis=0)\n",
    "    \n",
    "    # 保存x_train, y_train, x_test, y_test数据(.pickle格式)\n",
    "    with open(os.path.join(file_path, 'x_train'), 'wb') as f:\n",
    "        pickle.dump(x_train, f)\n",
    "    with open(os.path.join(file_path, 'y_train'), 'wb') as f:\n",
    "        pickle.dump(y_train, f)\n",
    "    with open(os.path.join(file_path, 'x_test'), 'wb') as f:\n",
    "        pickle.dump(x_test, f)\n",
    "    with open(os.path.join(file_path, 'y_test'), 'wb') as f:\n",
    "        pickle.dump(y_test, f)\n",
    "    return\n",
    "\n",
    "file_path = os.getcwd() # 将训练测试数据的保存地址定义为当前工作路径\n",
    "\n",
    "# 调用save_data()保存训练集和测试集数据\n",
    "save_data(GloVe_cont2idx, target_one_hot ,0.7, file_path)"
   ]
  },
  {
   "cell_type": "markdown",
   "metadata": {},
   "source": [
    "## 重点：定义biLSTM类"
   ]
  },
  {
   "cell_type": "code",
   "execution_count": 27,
   "metadata": {},
   "outputs": [],
   "source": [
    "class biLSTM:\n",
    "    \n",
    "    # 类的初始化\n",
    "    def __init__(self, units, epochs, batch_size, total_words, embed_len, max_sent_len, \\\n",
    "                 tar_kinds, model_path, file_path, config_path=None, callback=True, train=False):\n",
    "        \"\"\"\n",
    "        units: biLSTM层中LSTM基本神经元的个数\n",
    "        epochs: 模型的最大跌打次数\n",
    "        batch_size: 单次训练的最大批量\n",
    "        total_words: 词库中单词的总数\n",
    "        embed_len: 词嵌入的维度(单词分布式表示的维度)\n",
    "        max_sent_len: 句子的最大长度\n",
    "        tar_kinds: 情感标注的类别数\n",
    "        model_path: 模型保存和加载的路径\n",
    "        file_path: 训练数据和测试数据的加载路径\n",
    "        config_path: GloVe词向量weights文件的加载路径\n",
    "        callback: callback为True训练时采用early stop方案\n",
    "        train: 判断是否需要重新训练\n",
    "        \"\"\"\n",
    "        \n",
    "        self.units = units\n",
    "        self.epochs = epochs\n",
    "        self.batch_size = batch_size\n",
    "        self.total_words = total_words\n",
    "        self.embed_len = embed_len\n",
    "        self.max_sent_len = max_sent_len\n",
    "        self.tar_kinds = tar_kinds\n",
    "        self.model_path = model_path\n",
    "        self.file_path = file_path\n",
    "        self.config_path = config_path\n",
    "        self.config_load_state = False\n",
    "        self.callback = callback\n",
    "        \n",
    "        # 当config_path不为空时，载入GloVe词向量weights文件\n",
    "        if self.config_path:\n",
    "            with open(os.path.join(config_path, 'weights.pickle'), 'rb') as f:\n",
    "                self.weights = pickle.load(f)\n",
    "            self.config_load_state = True\n",
    "            \n",
    "        # 导入训练集和测试集\n",
    "        self.x_train, self.y_train, self.x_test, self.y_test = self.__load_data() \n",
    "        \n",
    "        # 不重新训练模型时导入保存的模型参数，重新训练模型时调用__train_model()方法\n",
    "        if not train:\n",
    "            self.model = self.__load_model()\n",
    "        else:\n",
    "            self.model = self.__train_model()\n",
    "            \n",
    "        # 对模型进行预测，导出预测结果pred\n",
    "        self.pred = self.__predict_model()\n",
    "    \n",
    "    # __load_data(): 导入训练集和测试集\n",
    "    def __load_data(self):\n",
    "        file_path = self.file_path\n",
    "        with open(os.path.join(file_path, 'x_train'), 'rb') as f:\n",
    "            x_train = pickle.load(f)\n",
    "        with open(os.path.join(file_path, 'y_train'), 'rb') as f:\n",
    "            y_train = pickle.load(f)\n",
    "        with open(os.path.join(file_path, 'x_test'), 'rb') as f:\n",
    "            x_test = pickle.load(f)\n",
    "        with open(os.path.join(file_path, 'y_test'), 'rb') as f:\n",
    "            y_test = pickle.load(f)\n",
    "        return x_train, y_train, x_test, y_test\n",
    "    \n",
    "    # __load_model(): 导入已经训练好的模型参数\n",
    "    def __load_model(self):\n",
    "        try:\n",
    "            model = self.__build_model()\n",
    "            model.load_weights(self.model_path)\n",
    "        except FileNotFoundError:\n",
    "            print('没有找到模型文件')\n",
    "            model = None\n",
    "        return model\n",
    "    \n",
    "    # __build_model(): 构建biLSTM深度神经网络\n",
    "    def __build_model(self):\n",
    "        # 定义模型的Sequential\n",
    "        model = Sequential()\n",
    "        \n",
    "        if self.config_load_state:\n",
    "            # 构造Embedding层，以训练好的GloVe词向量为权重，trainable状态为False(表明Embedding层无可训练参数)\n",
    "            model.add(Embedding(self.total_words, self.embed_len, input_length=self.max_sent_len, \\\n",
    "                                weights=[self.weights], trainable=False))\n",
    "        else:\n",
    "            # 构造Embedding层，Embedding层中参数随机初始化，并通过文本数据进行训练\n",
    "            model.add(Embedding(self.total_words, self.embed_len, input_length=self.max_sent_len))\n",
    "        \n",
    "        # add第一层的biLSTM，返回每一个神经元的输出结果，传递到下一层\n",
    "        model.add(Bidirectional(LSTM(self.units//2, return_sequences=True)))\n",
    "        # add随机失活层，防止过拟合\n",
    "        model.add(Dropout(0.4))\n",
    "        # add第二层的biLSTM，返回最后一个神经元的输出结果，传递到下一层\n",
    "        model.add(Bidirectional(LSTM(self.units//2, return_sequences=False)))\n",
    "        # add随机失活层，防止过拟合\n",
    "        model.add(Dropout(0.4))\n",
    "        # add全连接层，设置激活函数为softmax(softmax函数常用于多分类任务)\n",
    "        model.add(Dense(self.tar_kinds, activation='softmax'))\n",
    "        # 输出模型的计算图\n",
    "        model.summary()\n",
    "        \n",
    "        # 模型编译：优化器为Adam(学习率为0.01), 损失为交叉熵损失函数，判断准则为准确率\n",
    "        model.compile(optimizer=optimizers.Adam(lr=0.01), \n",
    "              loss=losses.CategoricalCrossentropy(from_logits=True),\n",
    "              metrics=['accuracy'])\n",
    "        return model\n",
    "    \n",
    "    # __build_model(): 在训练集上训练biLSTM深度神经网络\n",
    "    def __train_model(self):\n",
    "        model = self.__build_model()\n",
    "        if self.callback:\n",
    "            # 定义checkpoint: 以验证集的损失为准则，将训练过程中最好的结果保存下来\n",
    "            checkpoint = ModelCheckpoint('best_model_biLSTM.h5', monitor='val_loss', verbose=True, save_best_only=True)\n",
    "            # 定义early stop: 以验证集的预测准确率为准则，在模型过拟合之前停止训练\n",
    "            early_stop = EarlyStopping(monitor='val_accuracy', patience=10)\n",
    "            # 模型拟合\n",
    "            model.fit(self.x_train, self.y_train, epochs=self.epochs, batch_size=self.batch_size, shuffle=True, \\\n",
    "                      validation_split=0.2, callbacks=[early_stop, checkpoint])\n",
    "        else:\n",
    "            # 模型拟合\n",
    "            model.fit(self.x_train, self.y_train, epochs=self.epochs, batch_size=self.batch_size, shuffle=True, \\\n",
    "                      validation_split=0.2)\n",
    "            \n",
    "        # 保存训练好的模型参数(可将训练过程中表现最好的模型参数进行保存)\n",
    "        model.save_weights(self.model_path)\n",
    "        return model\n",
    "    \n",
    "    # __build_model(): 在测试集上预测biLSTM深度神经网络\n",
    "    def __predict_model(self):\n",
    "        model = self.model\n",
    "        pred = tf.argmax(model.predict(self.x_test), axis=1)\n",
    "        # 绘制混淆矩阵的热力图和classification的评估报告\n",
    "        self.__report_results(pred, method='biLSTM')\n",
    "        return pred\n",
    "    \n",
    "    def __report_results(self, pred, method=''):\n",
    "        labels = ['anger', 'disgust', 'fear', 'guilt', 'joy', 'sadness', 'shame']\n",
    "        confm = confusion_matrix(tf.argmax(self.y_test, axis=1), pred)\n",
    "        plt.figure(figsize=(8,8))\n",
    "        sns.heatmap(confm.T, square=True, annot=True, fmt='d', cbar=False)\n",
    "        plt.xlabel('True Label')\n",
    "        plt.ylabel('Predict Label')\n",
    "        plt.xticks([i+0.5 for i in range(7)], labels)\n",
    "        plt.yticks([i+0.5 for i in range(7)], labels)\n",
    "        plt.title(method+' '+'Confusion Matrix')\n",
    "        plt.show()\n",
    "        print(method+' '+'Classification Report：', '\\n', classification_report(tf.argmax(self.y_test, axis=1), pred))\n",
    "        return"
   ]
  },
  {
   "cell_type": "code",
   "execution_count": 28,
   "metadata": {
    "scrolled": false
   },
   "outputs": [
    {
     "name": "stdout",
     "output_type": "stream",
     "text": [
      "Model: \"sequential_3\"\n",
      "_________________________________________________________________\n",
      "Layer (type)                 Output Shape              Param #   \n",
      "=================================================================\n",
      "embedding_3 (Embedding)      (None, 30, 300)           120001200 \n",
      "_________________________________________________________________\n",
      "bidirectional_4 (Bidirection (None, 30, 256)           439296    \n",
      "_________________________________________________________________\n",
      "dropout_4 (Dropout)          (None, 30, 256)           0         \n",
      "_________________________________________________________________\n",
      "bidirectional_5 (Bidirection (None, 256)               394240    \n",
      "_________________________________________________________________\n",
      "dropout_5 (Dropout)          (None, 256)               0         \n",
      "_________________________________________________________________\n",
      "dense_2 (Dense)              (None, 7)                 1799      \n",
      "=================================================================\n",
      "Total params: 120,836,535\n",
      "Trainable params: 835,335\n",
      "Non-trainable params: 120,001,200\n",
      "_________________________________________________________________\n"
     ]
    },
    {
     "data": {
      "image/png": "[encoded data removed]",
      "text/plain": [
       "<Figure size 576x576 with 1 Axes>"
      ]
     },
     "metadata": {
      "needs_background": "light"
     },
     "output_type": "display_data"
    },
    {
     "name": "stdout",
     "output_type": "stream",
     "text": [
      "biLSTM Classification Report： \n",
      "               precision    recall  f1-score   support\n",
      "\n",
      "           0       0.45      0.36      0.40       321\n",
      "           1       0.55      0.54      0.55       321\n",
      "           2       0.63      0.62      0.63       323\n",
      "           3       0.56      0.24      0.34       321\n",
      "           4       0.59      0.70      0.64       319\n",
      "           5       0.70      0.40      0.51       323\n",
      "           6       0.32      0.66      0.43       323\n",
      "\n",
      "    accuracy                           0.50      2251\n",
      "   macro avg       0.54      0.50      0.50      2251\n",
      "weighted avg       0.54      0.50      0.50      2251\n",
      "\n"
     ]
    }
   ],
   "source": [
    "units = 256\n",
    "epochs = 40\n",
    "batch_size = 128\n",
    "total_words = len(GloVe_word2idx)\n",
    "embed_len = 300\n",
    "model_path = os.getcwd()\n",
    "config_path = '/Users/xujie/Desktop/Python/nlp/data/word_embeding'\n",
    "\n",
    "# 定义biLSTM类，载入、训练、预测、评估模型\n",
    "My_biLSTM = biLSTM(units, epochs, batch_size, total_words, embed_len, max_sent_len, tar_kinds, \\\n",
    "                   model_path, file_path, config_path=config_path, callback=True, train=False)"
   ]
  },
  {
   "cell_type": "code",
   "execution_count": null,
   "metadata": {},
   "outputs": [],
   "source": []
  }
 ],
 "metadata": {
  "kernelspec": {
   "display_name": "Python 3",
   "language": "python",
   "name": "python3"
  },
  "language_info": {
   "codemirror_mode": {
    "name": "ipython",
    "version": 3
   },
   "file_extension": ".py",
   "mimetype": "text/x-python",
   "name": "python",
   "nbconvert_exporter": "python",
   "pygments_lexer": "ipython3",
   "version": "3.7.4"
  }
 },
 "nbformat": 4,
 "nbformat_minor": 2
}
